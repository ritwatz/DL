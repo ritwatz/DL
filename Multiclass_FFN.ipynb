{
  "nbformat": 4,
  "nbformat_minor": 0,
  "metadata": {
    "colab": {
      "provenance": []
    },
    "kernelspec": {
      "name": "python3",
      "display_name": "Python 3"
    },
    "language_info": {
      "name": "python"
    }
  },
  "cells": [
    {
      "cell_type": "code",
      "execution_count": null,
      "metadata": {
        "colab": {
          "base_uri": "https://localhost:8080/"
        },
        "id": "mD1Vhtdv5_6T",
        "outputId": "cae1ee1a-e34f-444e-9672-063d9417033c"
      },
      "outputs": [
        {
          "output_type": "stream",
          "name": "stdout",
          "text": [
            "\n",
            "Sample Target Value (One-Hot Encoded):\n",
            "[0. 0. 0. 0. 0. 1. 0. 0. 0. 0.]\n",
            "Epoch 1/10\n",
            "469/469 [==============================] - 4s 6ms/step - loss: 0.3278 - accuracy: 0.9080 - val_loss: 0.1673 - val_accuracy: 0.9497\n",
            "Epoch 2/10\n",
            "469/469 [==============================] - 3s 6ms/step - loss: 0.1333 - accuracy: 0.9601 - val_loss: 0.1267 - val_accuracy: 0.9610\n",
            "Epoch 3/10\n",
            "469/469 [==============================] - 3s 6ms/step - loss: 0.0936 - accuracy: 0.9713 - val_loss: 0.0968 - val_accuracy: 0.9711\n",
            "Epoch 4/10\n",
            "469/469 [==============================] - 3s 7ms/step - loss: 0.0690 - accuracy: 0.9794 - val_loss: 0.0800 - val_accuracy: 0.9753\n",
            "Epoch 5/10\n",
            "469/469 [==============================] - 2s 5ms/step - loss: 0.0543 - accuracy: 0.9839 - val_loss: 0.0774 - val_accuracy: 0.9749\n",
            "Epoch 6/10\n",
            "469/469 [==============================] - 2s 5ms/step - loss: 0.0431 - accuracy: 0.9870 - val_loss: 0.0800 - val_accuracy: 0.9753\n",
            "Epoch 7/10\n",
            "469/469 [==============================] - 3s 6ms/step - loss: 0.0363 - accuracy: 0.9888 - val_loss: 0.0926 - val_accuracy: 0.9692\n",
            "Epoch 8/10\n",
            "469/469 [==============================] - 4s 7ms/step - loss: 0.0293 - accuracy: 0.9907 - val_loss: 0.0789 - val_accuracy: 0.9759\n",
            "Epoch 9/10\n",
            "469/469 [==============================] - 2s 5ms/step - loss: 0.0231 - accuracy: 0.9929 - val_loss: 0.0739 - val_accuracy: 0.9780\n",
            "Epoch 10/10\n",
            "469/469 [==============================] - 3s 6ms/step - loss: 0.0188 - accuracy: 0.9943 - val_loss: 0.0774 - val_accuracy: 0.9777\n",
            "313/313 [==============================] - 1s 2ms/step - loss: 0.0774 - accuracy: 0.9777\n",
            "\n",
            "Test Loss: 0.0774, Test Accuracy: 0.9777\n"
          ]
        }
      ],
      "source": [
        "import numpy as np\n",
        "import tensorflow as tf\n",
        "from tensorflow.keras.datasets import mnist\n",
        "from tensorflow.keras.models import Sequential\n",
        "from tensorflow.keras.layers import Dense\n",
        "from tensorflow.keras.utils import to_categorical\n",
        "\n",
        "# Load and preprocess the dataset\n",
        "(x_train, y_train), (x_test, y_test) = mnist.load_data()\n",
        "x_train = x_train.reshape((-1, 28 * 28)).astype(np.float32) / 255.0\n",
        "x_test = x_test.reshape((-1, 28 * 28)).astype(np.float32) / 255.0\n",
        "y_train = to_categorical(y_train, num_classes=10)\n",
        "y_test = to_categorical(y_test, num_classes=10)\n",
        "\n",
        "# Display a sample of features and target values\n",
        "sample_index = 0\n",
        "print(\"\\nSample Target Value (One-Hot Encoded):\")\n",
        "print(y_train[sample_index])\n",
        "\n",
        "# Build the neural network\n",
        "model = Sequential([\n",
        "    Dense(128, activation='relu', input_shape=(28 * 28,), use_bias=True),\n",
        "    Dense(64, activation='relu', use_bias=True),\n",
        "    Dense(10, activation='softmax', use_bias=True)\n",
        "])\n",
        "\n",
        "# Compile the model\n",
        "model.compile(optimizer='adam', loss='categorical_crossentropy', metrics=['accuracy'])\n",
        "\n",
        "# Train the model\n",
        "model.fit(x_train, y_train, epochs=10, batch_size=128, validation_data=(x_test, y_test))\n",
        "\n",
        "# Evaluate the model\n",
        "test_loss, test_accuracy = model.evaluate(x_test, y_test)\n",
        "print(f\"\\nTest Loss: {test_loss:.4f}, Test Accuracy: {test_accuracy:.4f}\")"
      ]
    },
    {
      "cell_type": "code",
      "source": [],
      "metadata": {
        "id": "A_GcwSy1Hap9"
      },
      "execution_count": null,
      "outputs": []
    }
  ]
}
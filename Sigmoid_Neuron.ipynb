{
 "cells": [
  {
   "cell_type": "code",
   "execution_count": 22,
   "id": "7d61d2fd",
   "metadata": {},
   "outputs": [],
   "source": [
    "#importing all the libraries\n",
    "import numpy as np\n",
    "from sklearn.datasets import load_breast_cancer\n",
    "from sklearn.model_selection import train_test_split\n",
    "from sklearn.preprocessing import StandardScaler\n",
    "from sklearn.metrics import confusion_matrix"
   ]
  },
  {
   "cell_type": "code",
   "execution_count": 23,
   "id": "86ae9b1d",
   "metadata": {},
   "outputs": [],
   "source": [
    "#load the breast cancer dataset\n",
    "data = load_breast_cancer()\n",
    "X, y = data.data, data.target"
   ]
  },
  {
   "cell_type": "code",
   "execution_count": 13,
   "id": "c8004b0d",
   "metadata": {},
   "outputs": [],
   "source": [
    "#splitting data into 80-20\n",
    "X_train, X_test, y_train, y_test = train_test_split(X, y, test_size=0.2, random_state=42)"
   ]
  },
  {
   "cell_type": "code",
   "execution_count": 24,
   "id": "b0057a8f",
   "metadata": {},
   "outputs": [],
   "source": [
    "#Scaling the values\n",
    "scaler = StandardScaler()\n",
    "X_train = scaler.fit_transform(X_train)\n",
    "X_test = scaler.transform(X_test)"
   ]
  },
  {
   "cell_type": "code",
   "execution_count": 25,
   "id": "22653134",
   "metadata": {},
   "outputs": [],
   "source": [
    "#creating the activation function\n",
    "def sigmoid(z):\n",
    "    return 1 / (1 + np.exp(-z))"
   ]
  },
  {
   "cell_type": "code",
   "execution_count": 26,
   "id": "175dea5a",
   "metadata": {},
   "outputs": [],
   "source": [
    "#training the neuron\n",
    "def sigmoid_neuron_train(X, y, learning_rate=0.1, epochs=1000):\n",
    "    m, n = X.shape\n",
    "    weights = np.random.randn(n)\n",
    "    bias = 0\n",
    "\n",
    "    for epoch in range(epochs):\n",
    "        z = np.dot(X, weights) + bias\n",
    "        a = sigmoid(z)\n",
    "\n",
    "        cost = np.mean((a - y) ** 2)\n",
    "\n",
    "        dz = a - y\n",
    "        dw = np.dot(X.T, dz) / m\n",
    "        db = np.sum(dz) / m\n",
    "\n",
    "        weights -= learning_rate * dw\n",
    "        bias -= learning_rate * db\n",
    "\n",
    "        if epoch % 100 == 0:\n",
    "            print(f\"Epoch {epoch}, Cost: {cost}\")\n",
    "\n",
    "    return weights, bias"
   ]
  },
  {
   "cell_type": "code",
   "execution_count": 17,
   "id": "5433977b",
   "metadata": {},
   "outputs": [
    {
     "name": "stdout",
     "output_type": "stream",
     "text": [
      "Epoch 0, Cost: 0.19466602287354923\n",
      "Epoch 100, Cost: 0.051247128474908976\n",
      "Epoch 200, Cost: 0.03705365096895569\n",
      "Epoch 300, Cost: 0.03178580680667305\n",
      "Epoch 400, Cost: 0.028995109867923648\n",
      "Epoch 500, Cost: 0.026985463382712162\n",
      "Epoch 600, Cost: 0.02523364576376531\n",
      "Epoch 700, Cost: 0.023739438009302276\n",
      "Epoch 800, Cost: 0.022524175804768037\n",
      "Epoch 900, Cost: 0.021523219079834868\n"
     ]
    }
   ],
   "source": [
    "weights, bias = sigmoid_neuron_train(X_train, y_train)"
   ]
  },
  {
   "cell_type": "code",
   "execution_count": 27,
   "id": "86d876d5",
   "metadata": {},
   "outputs": [],
   "source": [
    "#predicting the final values\n",
    "def predict(X, weights, bias):\n",
    "    z = np.dot(X, weights) + bias\n",
    "    a = sigmoid(z)\n",
    "    return np.round(a)"
   ]
  },
  {
   "cell_type": "code",
   "execution_count": 19,
   "id": "9248cb22",
   "metadata": {},
   "outputs": [],
   "source": [
    "y_pred = predict(X_test, weights, bias)"
   ]
  },
  {
   "cell_type": "code",
   "execution_count": 28,
   "id": "7f35b49c",
   "metadata": {},
   "outputs": [],
   "source": [
    "a=1+2+3"
   ]
  },
  {
   "cell_type": "code",
   "execution_count": 31,
   "id": "495f268e",
   "metadata": {},
   "outputs": [
    {
     "name": "stdout",
     "output_type": "stream",
     "text": [
      "8\n"
     ]
    }
   ],
   "source": [
    "b=2\n",
    "print(a+b)"
   ]
  },
  {
   "cell_type": "code",
   "execution_count": 20,
   "id": "c7cdadc9",
   "metadata": {},
   "outputs": [
    {
     "name": "stdout",
     "output_type": "stream",
     "text": [
      "Accuracy: 0.9824561403508771\n"
     ]
    }
   ],
   "source": [
    "accuracy = np.mean(y_pred == y_test)\n",
    "print(f\"Accuracy: {accuracy}\")"
   ]
  },
  {
   "cell_type": "code",
   "execution_count": 21,
   "id": "e7f247b5",
   "metadata": {},
   "outputs": [
    {
     "name": "stdout",
     "output_type": "stream",
     "text": [
      "Confusion Matrix:\n",
      "[[41  2]\n",
      " [ 0 71]]\n"
     ]
    }
   ],
   "source": [
    "cm = confusion_matrix(y_test, y_pred)\n",
    "print(\"Confusion Matrix:\")\n",
    "print(cm)"
   ]
  }
 ],
 "metadata": {
  "kernelspec": {
   "display_name": "Python 3 (ipykernel)",
   "language": "python",
   "name": "python3"
  },
  "language_info": {
   "codemirror_mode": {
    "name": "ipython",
    "version": 3
   },
   "file_extension": ".py",
   "mimetype": "text/x-python",
   "name": "python",
   "nbconvert_exporter": "python",
   "pygments_lexer": "ipython3",
   "version": "3.9.7"
  }
 },
 "nbformat": 4,
 "nbformat_minor": 5
}
